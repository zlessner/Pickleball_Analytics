{
 "cells": [
  {
   "cell_type": "code",
   "execution_count": 101,
   "metadata": {},
   "outputs": [],
   "source": [
    "import random"
   ]
  },
  {
   "cell_type": "code",
   "execution_count": 169,
   "metadata": {},
   "outputs": [],
   "source": [
    "# What is the advantage to starting on the higher courts in King of the Court?\n",
    "\n",
    "def KOTC(courtStart):\n",
    "    \n",
    "    totalCourts = 4\n",
    "    totalGames = 5\n",
    "    iterations = 100000\n",
    "    winProb = .5\n",
    "    gameNum = 1\n",
    "    courtEnd = courtStart\n",
    "    courtEndTotal = 0\n",
    "    \n",
    "    \n",
    "    for i in range(iterations):\n",
    "        while gameNum <= totalGames:\n",
    "            \n",
    "            if courtEnd > totalCourts or courtEnd < 1:\n",
    "                print(\"Too many or too few courts put into function arguement\")\n",
    "                break\n",
    "\n",
    "            # Game Won\n",
    "            elif random.random() <= winProb:\n",
    "                if courtEnd < totalCourts:\n",
    "                    courtEnd += 1\n",
    "#                     print (\"Game Won\")\n",
    "\n",
    "                # Game won but already on court 4\n",
    "#                 else:\n",
    "#                     print (\"Game Won, still on court 4\")\n",
    "\n",
    "            # Game Lost\n",
    "            elif courtEnd > 1:\n",
    "                courtEnd -= 1\n",
    "#                 print (\"Game Lost\")\n",
    "\n",
    "            # Game Lost, but already on court 1\n",
    "#             else:\n",
    "#                 print(\"Game Lost, still on court 1\")\n",
    "\n",
    "            gameNum +=1\n",
    "#             print(courtEnd)\n",
    "            \n",
    "        courtEndTotal = courtEndTotal + courtEnd\n",
    "        \n",
    "#         print(courtEndTotal)\n",
    "\n",
    "        # reset game number back to 1 and court position back to starting position for next iteration\n",
    "        gameNum = 1\n",
    "        courtEnd = courtStart\n",
    "        \n",
    "    \n",
    "    courtEndAverage = round((courtEndTotal/iterations), 2)\n",
    "    \n",
    "    print(f\"Average court ending of {courtEndAverage} after starting on court {courtStart}\")"
   ]
  },
  {
   "cell_type": "code",
   "execution_count": 170,
   "metadata": {},
   "outputs": [
    {
     "name": "stdout",
     "output_type": "stream",
     "text": [
      "Average court ending of 2.25 after starting on court 1\n",
      "Average court ending of 2.38 after starting on court 2\n",
      "Average court ending of 2.63 after starting on court 3\n",
      "Average court ending of 2.75 after starting on court 4\n"
     ]
    }
   ],
   "source": [
    "# Run function to find average ending court with different starting court number\n",
    "\n",
    "KOTC(1)\n",
    "\n",
    "KOTC(2)\n",
    "\n",
    "KOTC(3)\n",
    "\n",
    "KOTC(4)\n",
    "\n",
    "# Average court ending in general is 2.5, with wider gap in between starting on courts 2 and 3, with the reasoning that the last game has the most importance"
   ]
  },
  {
   "cell_type": "code",
   "execution_count": null,
   "metadata": {},
   "outputs": [],
   "source": []
  }
 ],
 "metadata": {
  "kernelspec": {
   "display_name": "Python 3",
   "language": "python",
   "name": "python3"
  },
  "language_info": {
   "codemirror_mode": {
    "name": "ipython",
    "version": 3
   },
   "file_extension": ".py",
   "mimetype": "text/x-python",
   "name": "python",
   "nbconvert_exporter": "python",
   "pygments_lexer": "ipython3",
   "version": "3.7.4"
  }
 },
 "nbformat": 4,
 "nbformat_minor": 2
}
